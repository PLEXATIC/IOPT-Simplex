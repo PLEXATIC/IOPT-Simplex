{
 "cells": [
  {
   "cell_type": "code",
   "execution_count": null,
   "metadata": {},
   "outputs": [],
   "source": [
    "import numpy as np\n",
    "import sympy as sp\n",
    "import matplotlib.pyplot as plt\n",
    "from itertools import permutations"
   ]
  },
  {
   "cell_type": "code",
   "execution_count": null,
   "metadata": {},
   "outputs": [],
   "source": [
    "A = [\n",
    "    [3, 2, 1, 1, 0, 0, 0],\n",
    "    [6, 1, 5, 0, 1, 0, 0],\n",
    "    [4, 1, 5, 0, 0, 1, 0],\n",
    "    [3, 1, 4, 0, 0, 0, 1],\n",
    "]\n",
    "A = np.array(A)\n",
    "\n",
    "b = [60, 120, 100, 80]\n",
    "b = np.array(b)\n",
    "\n",
    "c = [30, 20, 15, 0, 0, 0, 0]\n",
    "c = np.array(c)\n",
    "\n",
    "m = 4 # Number of inequalities (except x >= 0)\n",
    "n = 7 # Number of variables"
   ]
  },
  {
   "cell_type": "code",
   "execution_count": null,
   "metadata": {},
   "outputs": [],
   "source": [
    "def get_bases(A, m, n):\n",
    "    '''Eine zulässige Basis entspricht genau einem Eckpunkt. Mehrere basen können den selben Eckpunkt repräsentieren'''\n",
    "    rank = m\n",
    "    columns = n\n",
    "    indexes_list = list(permutations(range(columns), int(rank)))    \n",
    "    for indexes in indexes_list:\n",
    "        unselected_indices = [i for i in range(columns) if i not in indexes]\n",
    "        basis = A[:, indexes]\n",
    "        n = A[:, unselected_indices]\n",
    "        yield basis, n, list(indexes), list(unselected_indices)"
   ]
  },
  {
   "cell_type": "code",
   "execution_count": null,
   "metadata": {},
   "outputs": [],
   "source": [
    "def select_base_manually(A, selected_indexes):\n",
    "    B = A[:, selected_indexes]\n",
    "    unselected_indices = [i for i in range(A.shape[1]) if i not in selected_indexes]\n",
    "    N = A[:,unselected_indices]\n",
    "    return B, N, selected_indexes, unselected_indices"
   ]
  },
  {
   "cell_type": "code",
   "execution_count": null,
   "metadata": {},
   "outputs": [],
   "source": [
    "def get_basis_solution(B, b):\n",
    "    B_inverse = np.linalg.inv(B)\n",
    "    return B_inverse @ b, B_inverse"
   ]
  },
  {
   "cell_type": "code",
   "execution_count": null,
   "metadata": {},
   "outputs": [],
   "source": [
    "#B , N, x_indexes, n_indexes = get_bases(A, m, n).__next__()\n",
    "\n",
    "# Alternatively, use this:\n",
    "B, N, x_indexes, n_indexes = select_base_manually(A, [3, 4, 5, 6])"
   ]
  },
  {
   "cell_type": "code",
   "execution_count": null,
   "metadata": {},
   "outputs": [],
   "source": [
    "x_B, b_inverted = get_basis_solution(B, b)"
   ]
  },
  {
   "cell_type": "code",
   "execution_count": null,
   "metadata": {},
   "outputs": [],
   "source": [
    "def is_basis_solution_valid(basis_solution):\n",
    "    return np.all(basis_solution >= 0)"
   ]
  },
  {
   "cell_type": "code",
   "execution_count": null,
   "metadata": {},
   "outputs": [],
   "source": [
    "is_basis_solution_valid(x_B)"
   ]
  },
  {
   "cell_type": "code",
   "execution_count": null,
   "metadata": {},
   "outputs": [],
   "source": [
    "def get_reduced_costs(c, x_indexes, n_indexes, n, b_inverted):\n",
    "    c_B = []\n",
    "    for i in x_indexes:\n",
    "        c_B.append(c[i])\n",
    "    c_B = np.array(c_B)\n",
    "    #c_B = c[x_indexes]\n",
    "    \n",
    "    c_n = []\n",
    "    for i in n_indexes:\n",
    "        c_n.append(c[i])\n",
    "    c_n = np.array(c_n)\n",
    "    #c_n = c[n_indexes]\n",
    "    \n",
    "    return c_n - c_B  @ b_inverted @ n\n",
    "\n",
    "reduced_costs = get_reduced_costs(c, x_indexes, n_indexes, N, b_inverted)"
   ]
  },
  {
   "cell_type": "code",
   "execution_count": null,
   "metadata": {},
   "outputs": [],
   "source": [
    "def get_alpha(b_inverted, n):\n",
    "    return b_inverted @ n\n",
    "alphas = get_alpha(b_inverted, N)"
   ]
  },
  {
   "cell_type": "code",
   "execution_count": null,
   "metadata": {},
   "outputs": [],
   "source": [
    "def is_optimal(reduced_costs):\n",
    "    return np.all(reduced_costs <= 0)"
   ]
  },
  {
   "cell_type": "code",
   "execution_count": null,
   "metadata": {},
   "outputs": [],
   "source": [
    "def has_infinite_optimal_solution(reduced_costs, alphas, m, n):\n",
    "    # This somehow doesn't work...\n",
    "    for j in range(0, n-m):\n",
    "        if reduced_costs[j] > 0:\n",
    "            all_alphas_ok = True\n",
    "            for alpha in alphas[j]:\n",
    "                if alpha > 0:\n",
    "                    all_alphas_ok = False\n",
    "                    break\n",
    "            if all_alphas_ok:\n",
    "                return True\n",
    "    return False"
   ]
  },
  {
   "cell_type": "code",
   "execution_count": null,
   "metadata": {},
   "outputs": [],
   "source": [
    "def find_better_neighbor(reduced_costs, A, B, X_b, x_indexes, n_indexes, n, m):\n",
    "    basis_index_to_add = None # this is j\n",
    "    for j in range(n-m):\n",
    "        reduced_cost = reduced_costs[j]\n",
    "        if reduced_cost > 0:\n",
    "            basis_index_to_add = j\n",
    "    if basis_index_to_add is None:\n",
    "        return None # The solution is already optimal\n",
    "    \n",
    "    # Add column to basis\n",
    "    x_indexes.append(n_indexes[basis_index_to_add])\n",
    "    column_to_add = A[:, n_indexes[basis_index_to_add]] \n",
    "    B_extended = np.column_stack((B, column_to_add))\n",
    "    \n",
    "    b_extended_inv = np.linalg.inv(B) # Not sure if this should rather be B_extended\n",
    "\n",
    "    N = A[:, n_indexes]\n",
    "    n_indexes.remove(n_indexes[basis_index_to_add])\n",
    "    #print(N.shape, n_indexes)\n",
    "    extended_alphas = get_alpha(b_extended_inv, N)\n",
    "    relevant_alphas = extended_alphas[:, basis_index_to_add]\n",
    "    alphas_bigger_zero = relevant_alphas > 0\n",
    "    betas_over_alphas = [X_b[i] / relevant_alphas[i] for i in range(X_b.shape[0])]\n",
    "    \n",
    "    huge_penalties = (1-alphas_bigger_zero) * 1e9\n",
    "    betas_over_alphas += huge_penalties\n",
    "    i = np.argmin(betas_over_alphas)\n",
    "\n",
    "    # Remove column i from B_extended\n",
    "    B_new = np.delete(B_extended, i, 1)\n",
    "    index_to_append_to_n_indexes = x_indexes.pop(i)\n",
    "    n_indexes.append(index_to_append_to_n_indexes)\n",
    "    return B_new, x_indexes, n_indexes\n",
    "    "
   ]
  },
  {
   "cell_type": "code",
   "execution_count": null,
   "metadata": {},
   "outputs": [],
   "source": [
    "next_basis, new_indices, new_n_indices = find_better_neighbor(reduced_costs, A, B, x_B, x_indexes, n_indexes, n, m)"
   ]
  },
  {
   "cell_type": "code",
   "execution_count": null,
   "metadata": {},
   "outputs": [],
   "source": [
    "B = next_basis\n",
    "x_indexes =  new_indices\n",
    "n_indexes = new_n_indices"
   ]
  },
  {
   "cell_type": "code",
   "execution_count": null,
   "metadata": {},
   "outputs": [],
   "source": [
    "B"
   ]
  },
  {
   "cell_type": "code",
   "execution_count": null,
   "metadata": {},
   "outputs": [],
   "source": []
  }
 ],
 "metadata": {
  "kernelspec": {
   "display_name": "iopt",
   "language": "python",
   "name": "python3"
  },
  "language_info": {
   "codemirror_mode": {
    "name": "ipython",
    "version": 3
   },
   "file_extension": ".py",
   "mimetype": "text/x-python",
   "name": "python",
   "nbconvert_exporter": "python",
   "pygments_lexer": "ipython3",
   "version": "3.10.0"
  },
  "orig_nbformat": 4,
  "vscode": {
   "interpreter": {
    "hash": "db9377c8819eabba73cec1de024b392ef5694af4ad881a26f8113ef25fbc442d"
   }
  }
 },
 "nbformat": 4,
 "nbformat_minor": 2
}
